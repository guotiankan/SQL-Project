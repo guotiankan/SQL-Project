{
 "cells": [
  {
   "cell_type": "markdown",
   "metadata": {},
   "source": [
    "# Final project "
   ]
  },
  {
   "cell_type": "markdown",
   "metadata": {},
   "source": [
    "### Part 1 create databases and load data"
   ]
  },
  {
   "cell_type": "markdown",
   "metadata": {},
   "source": [
    "Setup SQL environment."
   ]
  },
  {
   "cell_type": "code",
   "execution_count": 1,
   "metadata": {
    "scrolled": true
   },
   "outputs": [
    {
     "name": "stdout",
     "output_type": "stream",
     "text": [
      "ipython-sql==0.3.9\n",
      "psycopg2==2.7.5\n",
      "psycopg2-binary==2.7.5\n"
     ]
    }
   ],
   "source": [
    "%load_ext sql\n",
    "!pip freeze | grep -E 'ipython-sql|psycopg2'"
   ]
  },
  {
   "cell_type": "code",
   "execution_count": 5,
   "metadata": {},
   "outputs": [
    {
     "name": "stdout",
     "output_type": "stream",
     "text": [
      "perl: warning: Setting locale failed.\n",
      "perl: warning: Please check that your locale settings:\n",
      "\tLANGUAGE = (unset),\n",
      "\tLC_ALL = (unset),\n",
      "\tLC_CTYPE = \"UTF-8\",\n",
      "\tLANG = \"en_US.UTF-8\"\n",
      "    are supported and installed on your system.\n",
      "perl: warning: Falling back to a fallback locale (\"en_US.UTF-8\").\n"
     ]
    }
   ],
   "source": [
    "!createdb -U student final_10"
   ]
  },
  {
   "cell_type": "code",
   "execution_count": 2,
   "metadata": {},
   "outputs": [
    {
     "data": {
      "text/plain": [
       "'Connected: student@final_10'"
      ]
     },
     "execution_count": 2,
     "metadata": {},
     "output_type": "execute_result"
    }
   ],
   "source": [
    "%sql postgresql://student@/final_10"
   ]
  },
  {
   "cell_type": "markdown",
   "metadata": {},
   "source": [
    "Create SQL tables for the data."
   ]
  },
  {
   "cell_type": "code",
   "execution_count": 32,
   "metadata": {},
   "outputs": [
    {
     "name": "stdout",
     "output_type": "stream",
     "text": [
      " * postgresql://student@/final_10\n",
      "Done.\n",
      "Done.\n"
     ]
    },
    {
     "data": {
      "text/plain": [
       "[]"
      ]
     },
     "execution_count": 32,
     "metadata": {},
     "output_type": "execute_result"
    }
   ],
   "source": [
    "%%sql\n",
    "DROP TABLE IF EXISTS users;\n",
    "\n",
    "CREATE TABLE users (\n",
    "  USER_ID   varchar(10) Not NULL, \n",
    "  GENDER   varchar(1),\n",
    "  AGE varchar(7),\n",
    "  OCCUPATION  varchar(3),\n",
    "  CITY_CAT  varchar(1), \n",
    "  STAY_YEARS  varchar(2) ,\n",
    "  MARITAL varchar(1),\n",
    "  PURCHASE_AMT numeric(14,2),\n",
    "  PRIMARY KEY (USER_ID)\n",
    ")"
   ]
  },
  {
   "cell_type": "code",
   "execution_count": 33,
   "metadata": {},
   "outputs": [
    {
     "name": "stdout",
     "output_type": "stream",
     "text": [
      " * postgresql://student@/final_10\n",
      "0 rows affected.\n"
     ]
    },
    {
     "data": {
      "text/html": [
       "<table>\n",
       "    <tr>\n",
       "        <th>user_id</th>\n",
       "        <th>gender</th>\n",
       "        <th>age</th>\n",
       "        <th>occupation</th>\n",
       "        <th>city_cat</th>\n",
       "        <th>stay_years</th>\n",
       "        <th>marital</th>\n",
       "        <th>purchase_amt</th>\n",
       "    </tr>\n",
       "</table>"
      ],
      "text/plain": [
       "[]"
      ]
     },
     "execution_count": 33,
     "metadata": {},
     "output_type": "execute_result"
    }
   ],
   "source": [
    "%%sql\n",
    "select * from users;"
   ]
  },
  {
   "cell_type": "code",
   "execution_count": 76,
   "metadata": {},
   "outputs": [
    {
     "name": "stdout",
     "output_type": "stream",
     "text": [
      " * postgresql://student@/final_10\n",
      "Done.\n",
      "Done.\n"
     ]
    },
    {
     "data": {
      "text/plain": [
       "[]"
      ]
     },
     "execution_count": 76,
     "metadata": {},
     "output_type": "execute_result"
    }
   ],
   "source": [
    "%%sql\n",
    "DROP TABLE IF EXISTS products;\n",
    "\n",
    "CREATE TABLE products (\n",
    "  PRODUCT_ID varchar(10) Not NULL, \n",
    "  CAT1 numeric(14,0) Not NULL,\n",
    "  CAT2 numeric(14,0),\n",
    "  CAT3 numeric(14,0),\n",
    "  PRODUCT_SALE_AMT numeric(14,2),\n",
    "  NO_OF_ORDER numeric(14,2),\n",
    "  PRIMARY KEY (PRODUCT_ID)\n",
    ")"
   ]
  },
  {
   "cell_type": "code",
   "execution_count": 35,
   "metadata": {},
   "outputs": [
    {
     "name": "stdout",
     "output_type": "stream",
     "text": [
      " * postgresql://student@/final_10\n",
      "Done.\n",
      "Done.\n"
     ]
    },
    {
     "data": {
      "text/plain": [
       "[]"
      ]
     },
     "execution_count": 35,
     "metadata": {},
     "output_type": "execute_result"
    }
   ],
   "source": [
    "%%sql\n",
    "DROP TABLE IF EXISTS facts;\n",
    "\n",
    "CREATE TABLE facts (\n",
    "  USER_ID varchar(10) Not NULL, \n",
    "  PRODUCT_ID varchar(10) Not NULL,\n",
    "  TRANSACTION_AMT numeric(14,2)\n",
    ")"
   ]
  },
  {
   "cell_type": "markdown",
   "metadata": {},
   "source": [
    "Load data into tables."
   ]
  },
  {
   "cell_type": "code",
   "execution_count": 77,
   "metadata": {},
   "outputs": [
    {
     "name": "stdout",
     "output_type": "stream",
     "text": [
      " * postgresql://student@/final_10\n",
      "3631 rows affected.\n"
     ]
    },
    {
     "data": {
      "text/plain": [
       "[]"
      ]
     },
     "execution_count": 77,
     "metadata": {},
     "output_type": "execute_result"
    }
   ],
   "source": [
    "%%sql\n",
    "COPY products\n",
    "FROM '/home/ubuntu/demension_product.csv' DELIMITER ',' CSV HEADER"
   ]
  },
  {
   "cell_type": "code",
   "execution_count": 37,
   "metadata": {},
   "outputs": [
    {
     "name": "stdout",
     "output_type": "stream",
     "text": [
      " * postgresql://student@/final_10\n",
      "5891 rows affected.\n"
     ]
    },
    {
     "data": {
      "text/plain": [
       "[]"
      ]
     },
     "execution_count": 37,
     "metadata": {},
     "output_type": "execute_result"
    }
   ],
   "source": [
    "%%sql\n",
    "COPY users\n",
    "FROM '/home/ubuntu/demension_user.csv' DELIMITER ',' CSV HEADER"
   ]
  },
  {
   "cell_type": "code",
   "execution_count": 39,
   "metadata": {},
   "outputs": [
    {
     "name": "stdout",
     "output_type": "stream",
     "text": [
      " * postgresql://student@/final_10\n",
      "550068 rows affected.\n"
     ]
    },
    {
     "data": {
      "text/plain": [
       "[]"
      ]
     },
     "execution_count": 39,
     "metadata": {},
     "output_type": "execute_result"
    }
   ],
   "source": [
    "%%sql\n",
    "COPY facts\n",
    "FROM '/home/ubuntu/order_facts.csv' DELIMITER ',' CSV HEADER"
   ]
  },
  {
   "cell_type": "markdown",
   "metadata": {},
   "source": [
    "Take a glance about what these databases look like."
   ]
  },
  {
   "cell_type": "code",
   "execution_count": 41,
   "metadata": {},
   "outputs": [
    {
     "name": "stdout",
     "output_type": "stream",
     "text": [
      " * postgresql://student@/final_10\n",
      "3 rows affected.\n"
     ]
    },
    {
     "data": {
      "text/html": [
       "<table>\n",
       "    <tr>\n",
       "        <th>product_id</th>\n",
       "        <th>cat1</th>\n",
       "        <th>cat2</th>\n",
       "        <th>cat3</th>\n",
       "        <th>product_sale_amt</th>\n",
       "    </tr>\n",
       "    <tr>\n",
       "        <td>P00109242</td>\n",
       "        <td>6</td>\n",
       "        <td>8</td>\n",
       "        <td>10</td>\n",
       "        <td>7060551.00</td>\n",
       "    </tr>\n",
       "    <tr>\n",
       "        <td>P00040442</td>\n",
       "        <td>5</td>\n",
       "        <td>14</td>\n",
       "        <td></td>\n",
       "        <td>696717.00</td>\n",
       "    </tr>\n",
       "    <tr>\n",
       "        <td>P00233342</td>\n",
       "        <td>1</td>\n",
       "        <td>15</td>\n",
       "        <td>16</td>\n",
       "        <td>4727286.00</td>\n",
       "    </tr>\n",
       "</table>"
      ],
      "text/plain": [
       "[('P00109242', '6', '8', '10', Decimal('7060551.00')),\n",
       " ('P00040442', '5', '14', '', Decimal('696717.00')),\n",
       " ('P00233342', '1', '15', '16', Decimal('4727286.00'))]"
      ]
     },
     "execution_count": 41,
     "metadata": {},
     "output_type": "execute_result"
    }
   ],
   "source": [
    "%%sql\n",
    "select * from products limit 3;"
   ]
  },
  {
   "cell_type": "code",
   "execution_count": 42,
   "metadata": {},
   "outputs": [
    {
     "name": "stdout",
     "output_type": "stream",
     "text": [
      " * postgresql://student@/final_10\n",
      "3 rows affected.\n"
     ]
    },
    {
     "data": {
      "text/html": [
       "<table>\n",
       "    <tr>\n",
       "        <th>user_id</th>\n",
       "        <th>gender</th>\n",
       "        <th>age</th>\n",
       "        <th>occupation</th>\n",
       "        <th>city_cat</th>\n",
       "        <th>stay_years</th>\n",
       "        <th>marital</th>\n",
       "        <th>purchase_amt</th>\n",
       "    </tr>\n",
       "    <tr>\n",
       "        <td>1000002</td>\n",
       "        <td>M</td>\n",
       "        <td>55+</td>\n",
       "        <td>16</td>\n",
       "        <td>C</td>\n",
       "        <td>4+</td>\n",
       "        <td>0</td>\n",
       "        <td>810472.00</td>\n",
       "    </tr>\n",
       "    <tr>\n",
       "        <td>1000136</td>\n",
       "        <td>M</td>\n",
       "        <td>18-25</td>\n",
       "        <td>2</td>\n",
       "        <td>B</td>\n",
       "        <td>3</td>\n",
       "        <td>0</td>\n",
       "        <td>1562462.00</td>\n",
       "    </tr>\n",
       "    <tr>\n",
       "        <td>1000705</td>\n",
       "        <td>M</td>\n",
       "        <td>26-35</td>\n",
       "        <td>4</td>\n",
       "        <td>C</td>\n",
       "        <td>0</td>\n",
       "        <td>1</td>\n",
       "        <td>684297.00</td>\n",
       "    </tr>\n",
       "</table>"
      ],
      "text/plain": [
       "[('1000002', 'M', '55+', '16', 'C', '4+', '0', Decimal('810472.00')),\n",
       " ('1000136', 'M', '18-25', '2', 'B', '3', '0', Decimal('1562462.00')),\n",
       " ('1000705', 'M', '26-35', '4', 'C', '0', '1', Decimal('684297.00'))]"
      ]
     },
     "execution_count": 42,
     "metadata": {},
     "output_type": "execute_result"
    }
   ],
   "source": [
    "%%sql\n",
    "select * from users limit 3;"
   ]
  },
  {
   "cell_type": "code",
   "execution_count": 43,
   "metadata": {},
   "outputs": [
    {
     "name": "stdout",
     "output_type": "stream",
     "text": [
      " * postgresql://student@/final_10\n",
      "3 rows affected.\n"
     ]
    },
    {
     "data": {
      "text/html": [
       "<table>\n",
       "    <tr>\n",
       "        <th>user_id</th>\n",
       "        <th>product_id</th>\n",
       "        <th>transaction_amt</th>\n",
       "    </tr>\n",
       "    <tr>\n",
       "        <td>1000001</td>\n",
       "        <td>P00069042</td>\n",
       "        <td>8370.00</td>\n",
       "    </tr>\n",
       "    <tr>\n",
       "        <td>1000001</td>\n",
       "        <td>P00248942</td>\n",
       "        <td>15200.00</td>\n",
       "    </tr>\n",
       "    <tr>\n",
       "        <td>1000001</td>\n",
       "        <td>P00087842</td>\n",
       "        <td>1422.00</td>\n",
       "    </tr>\n",
       "</table>"
      ],
      "text/plain": [
       "[('1000001', 'P00069042', Decimal('8370.00')),\n",
       " ('1000001', 'P00248942', Decimal('15200.00')),\n",
       " ('1000001', 'P00087842', Decimal('1422.00'))]"
      ]
     },
     "execution_count": 43,
     "metadata": {},
     "output_type": "execute_result"
    }
   ],
   "source": [
    "%%sql\n",
    "select * from facts limit 3;"
   ]
  },
  {
   "cell_type": "markdown",
   "metadata": {},
   "source": [
    "### Part 2 basic analysis"
   ]
  },
  {
   "cell_type": "markdown",
   "metadata": {},
   "source": [
    "Visualize data  - **this part can be move to the last of this notebook later.** It's handy to visualize data here so as to get some insights before we do the analysis."
   ]
  },
  {
   "cell_type": "code",
   "execution_count": 3,
   "metadata": {},
   "outputs": [],
   "source": [
    "import pandas as pd\n",
    "import matplotlib.pyplot as plt\n",
    "from sqlalchemy import create_engine\n",
    "import numpy as np\n",
    "import seaborn as sns"
   ]
  },
  {
   "cell_type": "code",
   "execution_count": 4,
   "metadata": {},
   "outputs": [],
   "source": [
    "engine = create_engine('postgresql://student@/final_10')"
   ]
  },
  {
   "cell_type": "code",
   "execution_count": 5,
   "metadata": {},
   "outputs": [],
   "source": [
    "users = pd.read_sql_table('users',con=engine)"
   ]
  },
  {
   "cell_type": "code",
   "execution_count": 6,
   "metadata": {},
   "outputs": [
    {
     "data": {
      "text/html": [
       "<div>\n",
       "<style scoped>\n",
       "    .dataframe tbody tr th:only-of-type {\n",
       "        vertical-align: middle;\n",
       "    }\n",
       "\n",
       "    .dataframe tbody tr th {\n",
       "        vertical-align: top;\n",
       "    }\n",
       "\n",
       "    .dataframe thead th {\n",
       "        text-align: right;\n",
       "    }\n",
       "</style>\n",
       "<table border=\"1\" class=\"dataframe\">\n",
       "  <thead>\n",
       "    <tr style=\"text-align: right;\">\n",
       "      <th></th>\n",
       "      <th>user_id</th>\n",
       "      <th>gender</th>\n",
       "      <th>age</th>\n",
       "      <th>occupation</th>\n",
       "      <th>city_cat</th>\n",
       "      <th>stay_years</th>\n",
       "      <th>marital</th>\n",
       "      <th>purchase_amt</th>\n",
       "    </tr>\n",
       "  </thead>\n",
       "  <tbody>\n",
       "    <tr>\n",
       "      <th>0</th>\n",
       "      <td>1000002</td>\n",
       "      <td>M</td>\n",
       "      <td>55+</td>\n",
       "      <td>16</td>\n",
       "      <td>C</td>\n",
       "      <td>4+</td>\n",
       "      <td>0</td>\n",
       "      <td>810472.0</td>\n",
       "    </tr>\n",
       "    <tr>\n",
       "      <th>1</th>\n",
       "      <td>1000136</td>\n",
       "      <td>M</td>\n",
       "      <td>18-25</td>\n",
       "      <td>2</td>\n",
       "      <td>B</td>\n",
       "      <td>3</td>\n",
       "      <td>0</td>\n",
       "      <td>1562462.0</td>\n",
       "    </tr>\n",
       "    <tr>\n",
       "      <th>2</th>\n",
       "      <td>1000705</td>\n",
       "      <td>M</td>\n",
       "      <td>26-35</td>\n",
       "      <td>4</td>\n",
       "      <td>C</td>\n",
       "      <td>0</td>\n",
       "      <td>1</td>\n",
       "      <td>684297.0</td>\n",
       "    </tr>\n",
       "    <tr>\n",
       "      <th>3</th>\n",
       "      <td>1000760</td>\n",
       "      <td>M</td>\n",
       "      <td>55+</td>\n",
       "      <td>15</td>\n",
       "      <td>A</td>\n",
       "      <td>4+</td>\n",
       "      <td>1</td>\n",
       "      <td>300758.0</td>\n",
       "    </tr>\n",
       "    <tr>\n",
       "      <th>4</th>\n",
       "      <td>1001593</td>\n",
       "      <td>M</td>\n",
       "      <td>26-35</td>\n",
       "      <td>16</td>\n",
       "      <td>C</td>\n",
       "      <td>1</td>\n",
       "      <td>1</td>\n",
       "      <td>779007.0</td>\n",
       "    </tr>\n",
       "  </tbody>\n",
       "</table>\n",
       "</div>"
      ],
      "text/plain": [
       "   user_id gender    age occupation city_cat stay_years marital  purchase_amt\n",
       "0  1000002      M    55+         16        C         4+       0      810472.0\n",
       "1  1000136      M  18-25          2        B          3       0     1562462.0\n",
       "2  1000705      M  26-35          4        C          0       1      684297.0\n",
       "3  1000760      M    55+         15        A         4+       1      300758.0\n",
       "4  1001593      M  26-35         16        C          1       1      779007.0"
      ]
     },
     "execution_count": 6,
     "metadata": {},
     "output_type": "execute_result"
    }
   ],
   "source": [
    "users.head()"
   ]
  },
  {
   "cell_type": "code",
   "execution_count": 7,
   "metadata": {},
   "outputs": [
    {
     "data": {
      "image/png": "[encoded data removed]",
      "text/plain": [
       "<Figure size 936x504 with 1 Axes>"
      ]
     },
     "metadata": {},
     "output_type": "display_data"
    }
   ],
   "source": [
    "sns.set()\n",
    "plt.figure(figsize = (13,7))\n",
    "sns.boxplot(y = 'purchase_amt',x = 'gender',hue = 'marital',data = users)\n",
    "plt.title('Marital Status and Gender Distribution')\n",
    "plt.show()"
   ]
  },
  {
   "cell_type": "code",
   "execution_count": 8,
   "metadata": {},
   "outputs": [
    {
     "data": {
      "image/png": "[encoded data removed]",
      "text/plain": [
       "<Figure size 936x504 with 1 Axes>"
      ]
     },
     "metadata": {},
     "output_type": "display_data"
    }
   ],
   "source": [
    "plt.figure(figsize = (13,7))\n",
    "sns.boxplot(y = 'purchase_amt',x = 'age',hue = 'gender',data = users)\n",
    "plt.title('Age and Gender Distribution')\n",
    "plt.show()"
   ]
  },
  {
   "cell_type": "code",
   "execution_count": 92,
   "metadata": {
    "scrolled": true
   },
   "outputs": [
    {
     "data": {
      "image/png": "[encoded data removed]",
      "text/plain": [
       "<Figure size 936x504 with 1 Axes>"
      ]
     },
     "metadata": {},
     "output_type": "display_data"
    }
   ],
   "source": [
    "plt.figure(figsize = (13,7))\n",
    "sns.boxplot(y = 'purchase_amt',x = 'age',hue = 'marital',data = users)\n",
    "plt.title('Age and Marital Distribution')\n",
    "plt.show()"
   ]
  },
  {
   "cell_type": "code",
   "execution_count": 85,
   "metadata": {},
   "outputs": [
    {
     "data": {
      "image/png": "[encoded data removed]",
      "text/plain": [
       "<Figure size 936x504 with 1 Axes>"
      ]
     },
     "metadata": {},
     "output_type": "display_data"
    }
   ],
   "source": [
    "sns.set()\n",
    "plt.figure(figsize = (13,7))\n",
    "sns.boxplot(y = 'purchase_amt',x = 'city_cat',data = users)\n",
    "plt.title('Buyers Location Distribution')\n",
    "plt.show()"
   ]
  },
  {
   "cell_type": "code",
   "execution_count": 90,
   "metadata": {},
   "outputs": [
    {
     "data": {
      "image/png": "[encoded data removed]",
      "text/plain": [
       "<Figure size 936x504 with 1 Axes>"
      ]
     },
     "metadata": {},
     "output_type": "display_data"
    }
   ],
   "source": [
    "plt.figure(figsize = (13,7))\n",
    "sns.boxplot(y = 'purchase_amt',x = 'occupation',data = users)\n",
    "plt.title('Occupation Distribution')\n",
    "plt.show()"
   ]
  },
  {
   "cell_type": "markdown",
   "metadata": {},
   "source": [
    "### Q1 Which kind of customer should be considered a target customer? What does his or her profile look like?"
   ]
  },
  {
   "cell_type": "markdown",
   "metadata": {},
   "source": [
    "#### Let's decomposite this question. Is purchase amt impacted by gender?"
   ]
  },
  {
   "cell_type": "markdown",
   "metadata": {},
   "source": [
    "get the distribution of gender, and average purchase amount for each gender."
   ]
  },
  {
   "cell_type": "markdown",
   "metadata": {},
   "source": [
    "Male:"
   ]
  },
  {
   "cell_type": "code",
   "execution_count": 54,
   "metadata": {},
   "outputs": [
    {
     "name": "stdout",
     "output_type": "stream",
     "text": [
      " * postgresql://student@/final_10\n",
      "1 rows affected.\n"
     ]
    },
    {
     "data": {
      "text/html": [
       "<table>\n",
       "    <tr>\n",
       "        <th>count_m</th>\n",
       "        <th>ttl_purchase_amt</th>\n",
       "        <th>avg_m_purchase_amt</th>\n",
       "    </tr>\n",
       "    <tr>\n",
       "        <td>4225</td>\n",
       "        <td>3909580100.00</td>\n",
       "        <td>925344.402366863905</td>\n",
       "    </tr>\n",
       "</table>"
      ],
      "text/plain": [
       "[(4225, Decimal('3909580100.00'), Decimal('925344.402366863905'))]"
      ]
     },
     "execution_count": 54,
     "metadata": {},
     "output_type": "execute_result"
    }
   ],
   "source": [
    "%%sql\n",
    "select M.count_M,M.ttl_purchase_amt, M.ttl_purchase_amt/M.count_M as avg_m_purchase_amt from\n",
    "(select count(gender) as count_M,sum(purchase_amt) as ttl_purchase_amt from users\n",
    "where gender = 'M') as M;"
   ]
  },
  {
   "cell_type": "markdown",
   "metadata": {},
   "source": [
    "Female:"
   ]
  },
  {
   "cell_type": "code",
   "execution_count": 27,
   "metadata": {},
   "outputs": [
    {
     "name": "stdout",
     "output_type": "stream",
     "text": [
      " * postgresql://student@/final_10\n",
      "1 rows affected.\n"
     ]
    },
    {
     "data": {
      "text/html": [
       "<table>\n",
       "    <tr>\n",
       "        <th>count_f</th>\n",
       "        <th>f_ttl_purchase_amt</th>\n",
       "        <th>avg_f_purchase_amt</th>\n",
       "    </tr>\n",
       "    <tr>\n",
       "        <td>1666</td>\n",
       "        <td>1186232642.00</td>\n",
       "        <td>712024.39</td>\n",
       "    </tr>\n",
       "</table>"
      ],
      "text/plain": [
       "[(1666, Decimal('1186232642.00'), Decimal('712024.39'))]"
      ]
     },
     "execution_count": 27,
     "metadata": {},
     "output_type": "execute_result"
    }
   ],
   "source": [
    "%%sql\n",
    "select F.count_F,round(F.ttl_purchase_amt,2) as F_ttl_purchase_amt, round(F.ttl_purchase_amt/F.count_F,2) as avg_f_purchase_amt from\n",
    "(select count(gender) as count_F ,sum(purchase_amt) as ttl_purchase_amt from users\n",
    "where gender = 'F') as F;"
   ]
  },
  {
   "cell_type": "markdown",
   "metadata": {},
   "source": [
    "#### Is purchase amt impacted by marriage?"
   ]
  },
  {
   "cell_type": "markdown",
   "metadata": {},
   "source": [
    "male, not married:"
   ]
  },
  {
   "cell_type": "code",
   "execution_count": 28,
   "metadata": {},
   "outputs": [
    {
     "name": "stdout",
     "output_type": "stream",
     "text": [
      " * postgresql://student@/final_10\n",
      "1 rows affected.\n"
     ]
    },
    {
     "data": {
      "text/html": [
       "<table>\n",
       "    <tr>\n",
       "        <th>count_m0</th>\n",
       "        <th>m0_ttl_purchase_amt</th>\n",
       "        <th>avg_m0_purchase_amt</th>\n",
       "    </tr>\n",
       "    <tr>\n",
       "        <td>2470</td>\n",
       "        <td>2324773320.00</td>\n",
       "        <td>941203.77</td>\n",
       "    </tr>\n",
       "</table>"
      ],
      "text/plain": [
       "[(2470, Decimal('2324773320.00'), Decimal('941203.77'))]"
      ]
     },
     "execution_count": 28,
     "metadata": {},
     "output_type": "execute_result"
    }
   ],
   "source": [
    "%%sql\n",
    "select M0.count_M0,round(M0.ttl_purchase_amt,2) as M0_ttl_purchase_amt, round(M0.ttl_purchase_amt/M0.count_M0,2) as avg_m0_purchase_amt from\n",
    "(select count(gender) as count_M0,sum(purchase_amt) as ttl_purchase_amt from users\n",
    "where gender = 'M' and marital = '0') as M0;"
   ]
  },
  {
   "cell_type": "markdown",
   "metadata": {},
   "source": [
    "male, married:"
   ]
  },
  {
   "cell_type": "code",
   "execution_count": 30,
   "metadata": {},
   "outputs": [
    {
     "name": "stdout",
     "output_type": "stream",
     "text": [
      " * postgresql://student@/final_10\n",
      "1 rows affected.\n"
     ]
    },
    {
     "data": {
      "text/html": [
       "<table>\n",
       "    <tr>\n",
       "        <th>count_m1</th>\n",
       "        <th>m1_ttl_purchase_amt</th>\n",
       "        <th>avg_m1_purchase_amt</th>\n",
       "    </tr>\n",
       "    <tr>\n",
       "        <td>1755</td>\n",
       "        <td>1584806780.00</td>\n",
       "        <td>903023.81</td>\n",
       "    </tr>\n",
       "</table>"
      ],
      "text/plain": [
       "[(1755, Decimal('1584806780.00'), Decimal('903023.81'))]"
      ]
     },
     "execution_count": 30,
     "metadata": {},
     "output_type": "execute_result"
    }
   ],
   "source": [
    "%%sql\n",
    "select M1.count_M1,round(M1.ttl_purchase_amt,2) as M1_ttl_purchase_amt, round(M1.ttl_purchase_amt/M1.count_M1,2) as avg_m1_purchase_amt from\n",
    "(select count(gender) as count_M1,sum(purchase_amt) as ttl_purchase_amt from users\n",
    "where gender = 'M' and marital = '1') as M1;"
   ]
  },
  {
   "cell_type": "markdown",
   "metadata": {},
   "source": [
    "female, not married:"
   ]
  },
  {
   "cell_type": "code",
   "execution_count": 39,
   "metadata": {},
   "outputs": [
    {
     "name": "stdout",
     "output_type": "stream",
     "text": [
      " * postgresql://student@/final_10\n",
      "1 rows affected.\n"
     ]
    },
    {
     "data": {
      "text/html": [
       "<table>\n",
       "    <tr>\n",
       "        <th>count_f0</th>\n",
       "        <th>f0_ttl_purchase_amt</th>\n",
       "        <th>avg_f0_purchase_amt</th>\n",
       "    </tr>\n",
       "    <tr>\n",
       "        <td>947</td>\n",
       "        <td>684154127.00</td>\n",
       "        <td>722443.64</td>\n",
       "    </tr>\n",
       "</table>"
      ],
      "text/plain": [
       "[(947, Decimal('684154127.00'), Decimal('722443.64'))]"
      ]
     },
     "execution_count": 39,
     "metadata": {},
     "output_type": "execute_result"
    }
   ],
   "source": [
    "%%sql\n",
    "select F0.count_F0,round(F0.ttl_purchase_amt,2) as F0_ttl_purchase_amt, round(F0.ttl_purchase_amt/F0.count_F0,2) as avg_f0_purchase_amt from\n",
    "a\n",
    "where gender = 'F' and marital = '0') as F0;"
   ]
  },
  {
   "cell_type": "markdown",
   "metadata": {},
   "source": [
    "female, married:"
   ]
  },
  {
   "cell_type": "code",
   "execution_count": 40,
   "metadata": {},
   "outputs": [
    {
     "name": "stdout",
     "output_type": "stream",
     "text": [
      " * postgresql://student@/final_10\n",
      "1 rows affected.\n"
     ]
    },
    {
     "data": {
      "text/html": [
       "<table>\n",
       "    <tr>\n",
       "        <th>count_f1</th>\n",
       "        <th>f1_ttl_purchase_amt</th>\n",
       "        <th>avg_f1_purchase_amt</th>\n",
       "    </tr>\n",
       "    <tr>\n",
       "        <td>719</td>\n",
       "        <td>502078515.00</td>\n",
       "        <td>698301.13</td>\n",
       "    </tr>\n",
       "</table>"
      ],
      "text/plain": [
       "[(719, Decimal('502078515.00'), Decimal('698301.13'))]"
      ]
     },
     "execution_count": 40,
     "metadata": {},
     "output_type": "execute_result"
    }
   ],
   "source": [
    "%%sql\n",
    "select F1.count_F1,round(F1.ttl_purchase_amt,2) as F1_ttl_purchase_amt, round(F1.ttl_purchase_amt/F1.count_F1,2) as avg_f1_purchase_amt from\n",
    "(select count(gender) as count_F1,sum(purchase_amt) as ttl_purchase_amt from users\n",
    "where gender = 'F' and marital = '1') as F1;"
   ]
  },
  {
   "cell_type": "markdown",
   "metadata": {},
   "source": [
    "target: men who is single."
   ]
  },
  {
   "cell_type": "markdown",
   "metadata": {},
   "source": [
    "#### Is purchase amt of customers impacted by the city they live in?"
   ]
  },
  {
   "cell_type": "markdown",
   "metadata": {},
   "source": [
    "answer this question by looking at the average purchase amount of each city:"
   ]
  },
  {
   "cell_type": "code",
   "execution_count": 22,
   "metadata": {},
   "outputs": [
    {
     "name": "stdout",
     "output_type": "stream",
     "text": [
      " * postgresql://student@/final_10\n",
      "3 rows affected.\n"
     ]
    },
    {
     "data": {
      "text/html": [
       "<table>\n",
       "    <tr>\n",
       "        <th>city_cat</th>\n",
       "        <th>avg_purchase_amt</th>\n",
       "    </tr>\n",
       "    <tr>\n",
       "        <td>C</td>\n",
       "        <td>530043.80</td>\n",
       "    </tr>\n",
       "    <tr>\n",
       "        <td>B</td>\n",
       "        <td>1239328.42</td>\n",
       "    </tr>\n",
       "    <tr>\n",
       "        <td>A</td>\n",
       "        <td>1259781.49</td>\n",
       "    </tr>\n",
       "</table>"
      ],
      "text/plain": [
       "[('C', Decimal('530043.80')),\n",
       " ('B', Decimal('1239328.42')),\n",
       " ('A', Decimal('1259781.49'))]"
      ]
     },
     "execution_count": 22,
     "metadata": {},
     "output_type": "execute_result"
    }
   ],
   "source": [
    "%%sql\n",
    "select city_cat,round(avg(purchase_amt),2) as avg_purchase_amt from users group by city_cat;"
   ]
  },
  {
   "cell_type": "markdown",
   "metadata": {},
   "source": [
    "target: People who live in type b and c city"
   ]
  },
  {
   "cell_type": "markdown",
   "metadata": {},
   "source": [
    "#### Is purchase amt impacted by age of customers?"
   ]
  },
  {
   "cell_type": "code",
   "execution_count": 21,
   "metadata": {},
   "outputs": [
    {
     "name": "stdout",
     "output_type": "stream",
     "text": [
      " * postgresql://student@/final_10\n",
      "7 rows affected.\n"
     ]
    },
    {
     "data": {
      "text/html": [
       "<table>\n",
       "    <tr>\n",
       "        <th>age</th>\n",
       "        <th>avg_purchase_amt</th>\n",
       "    </tr>\n",
       "    <tr>\n",
       "        <td>55+</td>\n",
       "        <td>539697.24</td>\n",
       "    </tr>\n",
       "    <tr>\n",
       "        <td>0-17</td>\n",
       "        <td>618867.81</td>\n",
       "    </tr>\n",
       "    <tr>\n",
       "        <td>51-55</td>\n",
       "        <td>763200.92</td>\n",
       "    </tr>\n",
       "    <tr>\n",
       "        <td>46-50</td>\n",
       "        <td>792548.78</td>\n",
       "    </tr>\n",
       "    <tr>\n",
       "        <td>18-25</td>\n",
       "        <td>854863.12</td>\n",
       "    </tr>\n",
       "    <tr>\n",
       "        <td>36-45</td>\n",
       "        <td>879665.71</td>\n",
       "    </tr>\n",
       "    <tr>\n",
       "        <td>26-35</td>\n",
       "        <td>989659.32</td>\n",
       "    </tr>\n",
       "</table>"
      ],
      "text/plain": [
       "[('55+', Decimal('539697.24')),\n",
       " ('0-17', Decimal('618867.81')),\n",
       " ('51-55', Decimal('763200.92')),\n",
       " ('46-50', Decimal('792548.78')),\n",
       " ('18-25', Decimal('854863.12')),\n",
       " ('36-45', Decimal('879665.71')),\n",
       " ('26-35', Decimal('989659.32'))]"
      ]
     },
     "execution_count": 21,
     "metadata": {},
     "output_type": "execute_result"
    }
   ],
   "source": [
    "%%sql\n",
    "select age,round(avg(purchase_amt),2) as avg_purchase_amt from users group by age order by avg_purchase_amt;"
   ]
  },
  {
   "cell_type": "markdown",
   "metadata": {},
   "source": [
    "Target: Customers who are 18 - 45 years old "
   ]
  },
  {
   "cell_type": "code",
   "execution_count": 37,
   "metadata": {},
   "outputs": [
    {
     "name": "stdout",
     "output_type": "stream",
     "text": [
      " * postgresql://student@/final_10\n",
      "21 rows affected.\n"
     ]
    },
    {
     "data": {
      "text/html": [
       "<table>\n",
       "    <tr>\n",
       "        <th>occupation</th>\n",
       "        <th>avg_purchase_amt</th>\n",
       "    </tr>\n",
       "    <tr>\n",
       "        <td>13</td>\n",
       "        <td>513710.58</td>\n",
       "    </tr>\n",
       "    <tr>\n",
       "        <td>10</td>\n",
       "        <td>603356.59</td>\n",
       "    </tr>\n",
       "    <tr>\n",
       "        <td>9</td>\n",
       "        <td>617500.52</td>\n",
       "    </tr>\n",
       "    <tr>\n",
       "        <td>17</td>\n",
       "        <td>800980.56</td>\n",
       "    </tr>\n",
       "    <tr>\n",
       "        <td>12</td>\n",
       "        <td>812365.55</td>\n",
       "    </tr>\n",
       "    <tr>\n",
       "        <td>1</td>\n",
       "        <td>821303.95</td>\n",
       "    </tr>\n",
       "    <tr>\n",
       "        <td>6</td>\n",
       "        <td>826389.40</td>\n",
       "    </tr>\n",
       "    <tr>\n",
       "        <td>7</td>\n",
       "        <td>833141.39</td>\n",
       "    </tr>\n",
       "    <tr>\n",
       "        <td>11</td>\n",
       "        <td>833997.02</td>\n",
       "    </tr>\n",
       "    <tr>\n",
       "        <td>15</td>\n",
       "        <td>849715.79</td>\n",
       "    </tr>\n",
       "    <tr>\n",
       "        <td>8</td>\n",
       "        <td>866905.18</td>\n",
       "    </tr>\n",
       "    <tr>\n",
       "        <td>14</td>\n",
       "        <td>882498.95</td>\n",
       "    </tr>\n",
       "    <tr>\n",
       "        <td>4</td>\n",
       "        <td>900330.38</td>\n",
       "    </tr>\n",
       "    <tr>\n",
       "        <td>18</td>\n",
       "        <td>906290.46</td>\n",
       "    </tr>\n",
       "    <tr>\n",
       "        <td>0</td>\n",
       "        <td>923556.63</td>\n",
       "    </tr>\n",
       "    <tr>\n",
       "        <td>2</td>\n",
       "        <td>929799.15</td>\n",
       "    </tr>\n",
       "    <tr>\n",
       "        <td>3</td>\n",
       "        <td>952953.93</td>\n",
       "    </tr>\n",
       "    <tr>\n",
       "        <td>16</td>\n",
       "        <td>1014242.36</td>\n",
       "    </tr>\n",
       "    <tr>\n",
       "        <td>5</td>\n",
       "        <td>1023871.70</td>\n",
       "    </tr>\n",
       "    <tr>\n",
       "        <td>19</td>\n",
       "        <td>1038036.86</td>\n",
       "    </tr>\n",
       "    <tr>\n",
       "        <td>20</td>\n",
       "        <td>1086338.62</td>\n",
       "    </tr>\n",
       "</table>"
      ],
      "text/plain": [
       "[('13', Decimal('513710.58')),\n",
       " ('10', Decimal('603356.59')),\n",
       " ('9', Decimal('617500.52')),\n",
       " ('17', Decimal('800980.56')),\n",
       " ('12', Decimal('812365.55')),\n",
       " ('1', Decimal('821303.95')),\n",
       " ('6', Decimal('826389.40')),\n",
       " ('7', Decimal('833141.39')),\n",
       " ('11', Decimal('833997.02')),\n",
       " ('15', Decimal('849715.79')),\n",
       " ('8', Decimal('866905.18')),\n",
       " ('14', Decimal('882498.95')),\n",
       " ('4', Decimal('900330.38')),\n",
       " ('18', Decimal('906290.46')),\n",
       " ('0', Decimal('923556.63')),\n",
       " ('2', Decimal('929799.15')),\n",
       " ('3', Decimal('952953.93')),\n",
       " ('16', Decimal('1014242.36')),\n",
       " ('5', Decimal('1023871.70')),\n",
       " ('19', Decimal('1038036.86')),\n",
       " ('20', Decimal('1086338.62'))]"
      ]
     },
     "execution_count": 37,
     "metadata": {},
     "output_type": "execute_result"
    }
   ],
   "source": [
    "%%sql\n",
    "select occupation,round(avg(purchase_amt),2) as avg_purchase_amt from users group by occupation order by avg_purchase_amt;"
   ]
  },
  {
   "cell_type": "markdown",
   "metadata": {},
   "source": [
    "Target: people who have an occupation code of 16,5,19,20"
   ]
  },
  {
   "cell_type": "markdown",
   "metadata": {},
   "source": [
    "#### Maybe average is not considered a good measurement of central tendency because it takes all datapoints into account. What if we define a function to compute the median and compare the results again?"
   ]
  },
  {
   "cell_type": "code",
   "execution_count": 9,
   "metadata": {},
   "outputs": [
    {
     "name": "stdout",
     "output_type": "stream",
     "text": [
      " * postgresql://student@/final_10\n",
      "Done.\n",
      "(psycopg2.ProgrammingError) function \"median\" already exists with same argument types\n",
      " [SQL: \"CREATE AGGREGATE median(NUMERIC) (\\n  SFUNC=array_append,\\n  STYPE=NUMERIC[],\\n  FINALFUNC=_final_median,\\n  INITCOND='{}'\\n);\"] (Background on this error at: http://sqlalche.me/e/f405)\n"
     ]
    }
   ],
   "source": [
    "%%sql\n",
    "CREATE OR REPLACE FUNCTION _final_median(NUMERIC[])\n",
    "   RETURNS NUMERIC AS\n",
    "$$\n",
    "   SELECT AVG(val)\n",
    "   FROM (\n",
    "     SELECT val\n",
    "     FROM unnest($1) val\n",
    "     ORDER BY 1\n",
    "     LIMIT  2 - MOD(array_upper($1, 1), 2)\n",
    "     OFFSET CEIL(array_upper($1, 1) / 2.0) - 1\n",
    "   ) sub;\n",
    "$$\n",
    "LANGUAGE 'sql' IMMUTABLE;\n",
    " \n",
    "CREATE AGGREGATE median(NUMERIC) (\n",
    "  SFUNC=array_append,\n",
    "  STYPE=NUMERIC[],\n",
    "  FINALFUNC=_final_median,\n",
    "  INITCOND='{}'\n",
    ");"
   ]
  },
  {
   "cell_type": "markdown",
   "metadata": {},
   "source": [
    "#### Analysis the gender and marital stuff again with median"
   ]
  },
  {
   "cell_type": "markdown",
   "metadata": {},
   "source": [
    "male, not married:"
   ]
  },
  {
   "cell_type": "code",
   "execution_count": 33,
   "metadata": {},
   "outputs": [
    {
     "name": "stdout",
     "output_type": "stream",
     "text": [
      " * postgresql://student@/final_10\n",
      "1 rows affected.\n"
     ]
    },
    {
     "data": {
      "text/html": [
       "<table>\n",
       "    <tr>\n",
       "        <th>m_median</th>\n",
       "    </tr>\n",
       "    <tr>\n",
       "        <td>605553.00</td>\n",
       "    </tr>\n",
       "</table>"
      ],
      "text/plain": [
       "[(Decimal('605553.00'),)]"
      ]
     },
     "execution_count": 33,
     "metadata": {},
     "output_type": "execute_result"
    }
   ],
   "source": [
    "%%sql\n",
    "select round(median(purchase_amt),2) as M_median from users where gender ='M' and marital = '0'"
   ]
  },
  {
   "cell_type": "markdown",
   "metadata": {},
   "source": [
    "male, married:"
   ]
  },
  {
   "cell_type": "code",
   "execution_count": 34,
   "metadata": {},
   "outputs": [
    {
     "name": "stdout",
     "output_type": "stream",
     "text": [
      " * postgresql://student@/final_10\n",
      "1 rows affected.\n"
     ]
    },
    {
     "data": {
      "text/html": [
       "<table>\n",
       "    <tr>\n",
       "        <th>m_median</th>\n",
       "    </tr>\n",
       "    <tr>\n",
       "        <td>538735.00</td>\n",
       "    </tr>\n",
       "</table>"
      ],
      "text/plain": [
       "[(Decimal('538735.00'),)]"
      ]
     },
     "execution_count": 34,
     "metadata": {},
     "output_type": "execute_result"
    }
   ],
   "source": [
    "%%sql\n",
    "select round(median(purchase_amt),2) as M_median from users where gender ='M' and marital = '1'"
   ]
  },
  {
   "cell_type": "markdown",
   "metadata": {},
   "source": [
    "female, not married:"
   ]
  },
  {
   "cell_type": "code",
   "execution_count": 35,
   "metadata": {},
   "outputs": [
    {
     "name": "stdout",
     "output_type": "stream",
     "text": [
      " * postgresql://student@/final_10\n",
      "1 rows affected.\n"
     ]
    },
    {
     "data": {
      "text/html": [
       "<table>\n",
       "    <tr>\n",
       "        <th>f_median</th>\n",
       "    </tr>\n",
       "    <tr>\n",
       "        <td>406029.00</td>\n",
       "    </tr>\n",
       "</table>"
      ],
      "text/plain": [
       "[(Decimal('406029.00'),)]"
      ]
     },
     "execution_count": 35,
     "metadata": {},
     "output_type": "execute_result"
    }
   ],
   "source": [
    "%%sql\n",
    "select round(median(purchase_amt),2) as F_median from users where gender ='F' and marital = '0'"
   ]
  },
  {
   "cell_type": "markdown",
   "metadata": {},
   "source": [
    "female, married:"
   ]
  },
  {
   "cell_type": "code",
   "execution_count": 36,
   "metadata": {},
   "outputs": [
    {
     "name": "stdout",
     "output_type": "stream",
     "text": [
      " * postgresql://student@/final_10\n",
      "1 rows affected.\n"
     ]
    },
    {
     "data": {
      "text/html": [
       "<table>\n",
       "    <tr>\n",
       "        <th>f_median</th>\n",
       "    </tr>\n",
       "    <tr>\n",
       "        <td>408499.00</td>\n",
       "    </tr>\n",
       "</table>"
      ],
      "text/plain": [
       "[(Decimal('408499.00'),)]"
      ]
     },
     "execution_count": 36,
     "metadata": {},
     "output_type": "execute_result"
    }
   ],
   "source": [
    "%%sql\n",
    "select round(median(purchase_amt),2) as F_median from users where gender ='F' and marital = '1'"
   ]
  },
  {
   "cell_type": "markdown",
   "metadata": {},
   "source": [
    "这里median的排名和average的排名一样呀 大家再看看 我看是一样的 可以再次印证male not married是最高 第二是male married."
   ]
  },
  {
   "cell_type": "markdown",
   "metadata": {},
   "source": [
    "Men who get married spend less,which is contradict to what we thought, while the marital status shows little impact on the purchase behavior of women.\n",
    "This result seems more reliable because of the nature of the median."
   ]
  },
  {
   "cell_type": "markdown",
   "metadata": {},
   "source": [
    "**Target remains the same:** men who is single"
   ]
  },
  {
   "cell_type": "markdown",
   "metadata": {},
   "source": [
    "**Plausible reason for it according to our research:**\n",
    "\n",
    "Relationships don’t alter the basic price of services, but it does give couples one competitive advantage: their expenses are cut in half. Two people can split the bill on housing, utilities, **groceries** and social events.\n",
    "**“During the holidays, I’ll buy one gift for each member of a family,” says Jean Marie Baiardi, a small business owner and actress in Los Angeles, who is single. “But they’ll give me just one gift. It feels a little uneven. There’s a lot of money attached to general societal expectations.”**\n",
    "Wedding season can be a whole other financial burden for singles with the bills for wedding presents, trips to destination ceremonies and fancy attire. Singles who never marry are not repaid with gifts at their own wedding.\n",
    "“If you’re a single person, you’re buying things for two people who likely have two salaries on only one salary,” DePaulo says. “But it’s not reciprocal. If you’re a single person and had an important life event and wanted to celebrate, people are unlikely to take it seriously.”\n",
    "\n",
    "分隔符分隔符是哇大是哇大欧拉拉拉拉拉拉拉拉拉啊啦啦分隔符分隔符是哇大是哇大欧拉拉拉拉拉拉拉拉拉啊啦啦分隔符分隔符是哇大是哇大欧拉拉拉拉拉拉拉\n",
    "\n",
    "Though married couples usually can reduce their basic living costs by sharing costs like housing, utilities, groceries, and socialing, two people already have higher cost comparing to living singlely. The overall effect of costs sharing is not strong enough to boost the purchasing power of couples.<br><br>\n",
    "Besides, married couples usually have more financial concerns and plans about saving, 401K, insurance, children, housing, and more. It might be safe to assume that married couples have higher purchasing power on some specific categories of products, but in general, single person are more likely to purchase more given their slight concerns and plans about personal finance.<br><br>\n",
    "Therefore, it is not surprise that single person have higher purchasing power. Several studies can be used to support this finding. For example, the 'Household spending by single persons and married couples in their twenties: a comparison' by William Hawk states that single person's percentage spending to income is greater than that of married person.<br><br> \n",
    "\n",
    "Hawk, W.(2011). 'Household Spending by Single Persons and Married Couples in their Twenties: a Comparison'. Consumer Expenditure Survey Anthology, 2011. https://www.bls.gov/cex/anthology11/csxanth6.pdf.\n"
   ]
  },
  {
   "cell_type": "markdown",
   "metadata": {},
   "source": [
    "### Analysis the city stuff"
   ]
  },
  {
   "cell_type": "code",
   "execution_count": 42,
   "metadata": {},
   "outputs": [
    {
     "name": "stdout",
     "output_type": "stream",
     "text": [
      " * postgresql://student@/final_10\n",
      "3 rows affected.\n"
     ]
    },
    {
     "data": {
      "text/html": [
       "<table>\n",
       "    <tr>\n",
       "        <th>city_cat</th>\n",
       "        <th>median_purchase_amt</th>\n",
       "    </tr>\n",
       "    <tr>\n",
       "        <td>C</td>\n",
       "        <td>383206.00</td>\n",
       "    </tr>\n",
       "    <tr>\n",
       "        <td>B</td>\n",
       "        <td>894439.00</td>\n",
       "    </tr>\n",
       "    <tr>\n",
       "        <td>A</td>\n",
       "        <td>744021.00</td>\n",
       "    </tr>\n",
       "</table>"
      ],
      "text/plain": [
       "[('C', Decimal('383206.00')),\n",
       " ('B', Decimal('894439.00')),\n",
       " ('A', Decimal('744021.00'))]"
      ]
     },
     "execution_count": 42,
     "metadata": {},
     "output_type": "execute_result"
    }
   ],
   "source": [
    "%%sql\n",
    "select city_cat,round(median(purchase_amt),2) as median_purchase_amt from users group by city_cat;"
   ]
  },
  {
   "cell_type": "markdown",
   "metadata": {},
   "source": [
    "**Target remains the same:** people who live in type a and b city"
   ]
  },
  {
   "cell_type": "markdown",
   "metadata": {},
   "source": [
    "Another interesting thing here is that the median purchase amount of customer who live in type b city is much more than that of customer who live in type c city, while the average purchase amount of them looks similar. The reason is the mean of purchase amount of customers who live in type a city is sensitive to these extreme values."
   ]
  },
  {
   "cell_type": "markdown",
   "metadata": {},
   "source": [
    "Median再考虑一下？"
   ]
  },
  {
   "cell_type": "markdown",
   "metadata": {},
   "source": [
    "#### Analysis of the age stuff"
   ]
  },
  {
   "cell_type": "code",
   "execution_count": 43,
   "metadata": {},
   "outputs": [
    {
     "name": "stdout",
     "output_type": "stream",
     "text": [
      " * postgresql://student@/final_10\n",
      "7 rows affected.\n"
     ]
    },
    {
     "data": {
      "text/html": [
       "<table>\n",
       "    <tr>\n",
       "        <th>age</th>\n",
       "        <th>median_purchase_amt</th>\n",
       "    </tr>\n",
       "    <tr>\n",
       "        <td>55+</td>\n",
       "        <td>332731.50</td>\n",
       "    </tr>\n",
       "    <tr>\n",
       "        <td>0-17</td>\n",
       "        <td>404567.00</td>\n",
       "    </tr>\n",
       "    <tr>\n",
       "        <td>51-55</td>\n",
       "        <td>457415.00</td>\n",
       "    </tr>\n",
       "    <tr>\n",
       "        <td>46-50</td>\n",
       "        <td>466398.00</td>\n",
       "    </tr>\n",
       "    <tr>\n",
       "        <td>36-45</td>\n",
       "        <td>525902.00</td>\n",
       "    </tr>\n",
       "    <tr>\n",
       "        <td>18-25</td>\n",
       "        <td>537636.00</td>\n",
       "    </tr>\n",
       "    <tr>\n",
       "        <td>26-35</td>\n",
       "        <td>614063.00</td>\n",
       "    </tr>\n",
       "</table>"
      ],
      "text/plain": [
       "[('55+', Decimal('332731.50')),\n",
       " ('0-17', Decimal('404567.00')),\n",
       " ('51-55', Decimal('457415.00')),\n",
       " ('46-50', Decimal('466398.00')),\n",
       " ('36-45', Decimal('525902.00')),\n",
       " ('18-25', Decimal('537636.00')),\n",
       " ('26-35', Decimal('614063.00'))]"
      ]
     },
     "execution_count": 43,
     "metadata": {},
     "output_type": "execute_result"
    }
   ],
   "source": [
    "%%sql\n",
    "select age,round(median(purchase_amt),2) as median_purchase_amt from users group by age order by median_purchase_amt;"
   ]
  },
  {
   "cell_type": "markdown",
   "metadata": {},
   "source": [
    "Target remains the same: Customers who are 18 - 45 years old "
   ]
  },
  {
   "cell_type": "code",
   "execution_count": 44,
   "metadata": {},
   "outputs": [
    {
     "name": "stdout",
     "output_type": "stream",
     "text": [
      " * postgresql://student@/final_10\n",
      "21 rows affected.\n"
     ]
    },
    {
     "data": {
      "text/html": [
       "<table>\n",
       "    <tr>\n",
       "        <th>occupation</th>\n",
       "        <th>median_purchase_amt</th>\n",
       "    </tr>\n",
       "    <tr>\n",
       "        <td>9</td>\n",
       "        <td>302200.50</td>\n",
       "    </tr>\n",
       "    <tr>\n",
       "        <td>8</td>\n",
       "        <td>320894.00</td>\n",
       "    </tr>\n",
       "    <tr>\n",
       "        <td>13</td>\n",
       "        <td>324726.00</td>\n",
       "    </tr>\n",
       "    <tr>\n",
       "        <td>6</td>\n",
       "        <td>370271.50</td>\n",
       "    </tr>\n",
       "    <tr>\n",
       "        <td>10</td>\n",
       "        <td>425310.50</td>\n",
       "    </tr>\n",
       "    <tr>\n",
       "        <td>7</td>\n",
       "        <td>458181.00</td>\n",
       "    </tr>\n",
       "    <tr>\n",
       "        <td>1</td>\n",
       "        <td>495207.00</td>\n",
       "    </tr>\n",
       "    <tr>\n",
       "        <td>0</td>\n",
       "        <td>515204.50</td>\n",
       "    </tr>\n",
       "    <tr>\n",
       "        <td>14</td>\n",
       "        <td>517205.00</td>\n",
       "    </tr>\n",
       "    <tr>\n",
       "        <td>17</td>\n",
       "        <td>528665.00</td>\n",
       "    </tr>\n",
       "    <tr>\n",
       "        <td>15</td>\n",
       "        <td>538272.50</td>\n",
       "    </tr>\n",
       "    <tr>\n",
       "        <td>11</td>\n",
       "        <td>546783.00</td>\n",
       "    </tr>\n",
       "    <tr>\n",
       "        <td>4</td>\n",
       "        <td>561387.50</td>\n",
       "    </tr>\n",
       "    <tr>\n",
       "        <td>3</td>\n",
       "        <td>579507.50</td>\n",
       "    </tr>\n",
       "    <tr>\n",
       "        <td>2</td>\n",
       "        <td>584280.00</td>\n",
       "    </tr>\n",
       "    <tr>\n",
       "        <td>18</td>\n",
       "        <td>588966.00</td>\n",
       "    </tr>\n",
       "    <tr>\n",
       "        <td>5</td>\n",
       "        <td>593757.00</td>\n",
       "    </tr>\n",
       "    <tr>\n",
       "        <td>12</td>\n",
       "        <td>597492.00</td>\n",
       "    </tr>\n",
       "    <tr>\n",
       "        <td>16</td>\n",
       "        <td>613928.00</td>\n",
       "    </tr>\n",
       "    <tr>\n",
       "        <td>19</td>\n",
       "        <td>633528.00</td>\n",
       "    </tr>\n",
       "    <tr>\n",
       "        <td>20</td>\n",
       "        <td>680293.00</td>\n",
       "    </tr>\n",
       "</table>"
      ],
      "text/plain": [
       "[('9', Decimal('302200.50')),\n",
       " ('8', Decimal('320894.00')),\n",
       " ('13', Decimal('324726.00')),\n",
       " ('6', Decimal('370271.50')),\n",
       " ('10', Decimal('425310.50')),\n",
       " ('7', Decimal('458181.00')),\n",
       " ('1', Decimal('495207.00')),\n",
       " ('0', Decimal('515204.50')),\n",
       " ('14', Decimal('517205.00')),\n",
       " ('17', Decimal('528665.00')),\n",
       " ('15', Decimal('538272.50')),\n",
       " ('11', Decimal('546783.00')),\n",
       " ('4', Decimal('561387.50')),\n",
       " ('3', Decimal('579507.50')),\n",
       " ('2', Decimal('584280.00')),\n",
       " ('18', Decimal('588966.00')),\n",
       " ('5', Decimal('593757.00')),\n",
       " ('12', Decimal('597492.00')),\n",
       " ('16', Decimal('613928.00')),\n",
       " ('19', Decimal('633528.00')),\n",
       " ('20', Decimal('680293.00'))]"
      ]
     },
     "execution_count": 44,
     "metadata": {},
     "output_type": "execute_result"
    }
   ],
   "source": [
    "%%sql\n",
    "select occupation,round(median(purchase_amt),2) as median_purchase_amt from users group by occupation order by median_purchase_amt;"
   ]
  },
  {
   "cell_type": "markdown",
   "metadata": {},
   "source": [
    "Target: people who has an occupation code of 16,5,19,20 and 12."
   ]
  },
  {
   "cell_type": "markdown",
   "metadata": {},
   "source": [
    "profile of the target customer: man who is single, lives in type b or type a city, who is 18-45 year old, and has an occupation code of 16,5,19,20 or 12. "
   ]
  },
  {
   "cell_type": "markdown",
   "metadata": {},
   "source": [
    "### Q2 Which kind of products should be considered popular products?"
   ]
  },
  {
   "cell_type": "markdown",
   "metadata": {},
   "source": [
    "find the most popular products"
   ]
  },
  {
   "cell_type": "code",
   "execution_count": 83,
   "metadata": {},
   "outputs": [
    {
     "name": "stdout",
     "output_type": "stream",
     "text": [
      " * postgresql://student@/final_10\n",
      "3 rows affected.\n"
     ]
    },
    {
     "data": {
      "text/html": [
       "<table>\n",
       "    <tr>\n",
       "        <th>product_id</th>\n",
       "        <th>cat1</th>\n",
       "        <th>cat2</th>\n",
       "        <th>cat3</th>\n",
       "        <th>product_sale_amt</th>\n",
       "        <th>no_of_order</th>\n",
       "    </tr>\n",
       "    <tr>\n",
       "        <td>P00109242</td>\n",
       "        <td>1</td>\n",
       "        <td>1</td>\n",
       "        <td>1</td>\n",
       "        <td>7060551.00</td>\n",
       "        <td>458.00</td>\n",
       "    </tr>\n",
       "    <tr>\n",
       "        <td>P00040442</td>\n",
       "        <td>1</td>\n",
       "        <td>1</td>\n",
       "        <td>0</td>\n",
       "        <td>696717.00</td>\n",
       "        <td>115.00</td>\n",
       "    </tr>\n",
       "    <tr>\n",
       "        <td>P00233342</td>\n",
       "        <td>1</td>\n",
       "        <td>1</td>\n",
       "        <td>1</td>\n",
       "        <td>4727286.00</td>\n",
       "        <td>351.00</td>\n",
       "    </tr>\n",
       "</table>"
      ],
      "text/plain": [
       "[('P00109242', Decimal('1'), Decimal('1'), Decimal('1'), Decimal('7060551.00'), Decimal('458.00')),\n",
       " ('P00040442', Decimal('1'), Decimal('1'), Decimal('0'), Decimal('696717.00'), Decimal('115.00')),\n",
       " ('P00233342', Decimal('1'), Decimal('1'), Decimal('1'), Decimal('4727286.00'), Decimal('351.00'))]"
      ]
     },
     "execution_count": 83,
     "metadata": {},
     "output_type": "execute_result"
    }
   ],
   "source": [
    "%%sql\n",
    "select * from products limit 3"
   ]
  },
  {
   "cell_type": "markdown",
   "metadata": {},
   "source": [
    "Sales amount will be inflated by price, therefore, it is necessary to determine popularity by no. of order as well as total sale. Plus, we are more interested in finding out some common characteristics of popular products."
   ]
  },
  {
   "cell_type": "markdown",
   "metadata": {},
   "source": [
    "#### most or least popular: by no. of order"
   ]
  },
  {
   "cell_type": "code",
   "execution_count": 79,
   "metadata": {
    "scrolled": true
   },
   "outputs": [
    {
     "name": "stdout",
     "output_type": "stream",
     "text": [
      " * postgresql://student@/final_10\n",
      "10 rows affected.\n"
     ]
    },
    {
     "data": {
      "text/html": [
       "<table>\n",
       "    <tr>\n",
       "        <th>product_id</th>\n",
       "        <th>cat1</th>\n",
       "        <th>cat2</th>\n",
       "        <th>cat3</th>\n",
       "        <th>product_sale_amt</th>\n",
       "        <th>no_of_order</th>\n",
       "        <th>num_of_cat</th>\n",
       "    </tr>\n",
       "    <tr>\n",
       "        <td>P00265242</td>\n",
       "        <td>1</td>\n",
       "        <td>1</td>\n",
       "        <td>0</td>\n",
       "        <td>14165515.00</td>\n",
       "        <td>1880.00</td>\n",
       "        <td>2</td>\n",
       "    </tr>\n",
       "    <tr>\n",
       "        <td>P00025442</td>\n",
       "        <td>1</td>\n",
       "        <td>1</td>\n",
       "        <td>1</td>\n",
       "        <td>27995166.00</td>\n",
       "        <td>1615.00</td>\n",
       "        <td>3</td>\n",
       "    </tr>\n",
       "    <tr>\n",
       "        <td>P00110742</td>\n",
       "        <td>1</td>\n",
       "        <td>1</td>\n",
       "        <td>1</td>\n",
       "        <td>26722309.00</td>\n",
       "        <td>1612.00</td>\n",
       "        <td>3</td>\n",
       "    </tr>\n",
       "    <tr>\n",
       "        <td>P00112142</td>\n",
       "        <td>1</td>\n",
       "        <td>1</td>\n",
       "        <td>1</td>\n",
       "        <td>24216006.00</td>\n",
       "        <td>1562.00</td>\n",
       "        <td>3</td>\n",
       "    </tr>\n",
       "    <tr>\n",
       "        <td>P00057642</td>\n",
       "        <td>1</td>\n",
       "        <td>1</td>\n",
       "        <td>1</td>\n",
       "        <td>23102780.00</td>\n",
       "        <td>1470.00</td>\n",
       "        <td>3</td>\n",
       "    </tr>\n",
       "    <tr>\n",
       "        <td>P00184942</td>\n",
       "        <td>1</td>\n",
       "        <td>1</td>\n",
       "        <td>1</td>\n",
       "        <td>24334887.00</td>\n",
       "        <td>1440.00</td>\n",
       "        <td>3</td>\n",
       "    </tr>\n",
       "    <tr>\n",
       "        <td>P00046742</td>\n",
       "        <td>1</td>\n",
       "        <td>1</td>\n",
       "        <td>1</td>\n",
       "        <td>21152882.00</td>\n",
       "        <td>1438.00</td>\n",
       "        <td>3</td>\n",
       "    </tr>\n",
       "    <tr>\n",
       "        <td>P00058042</td>\n",
       "        <td>1</td>\n",
       "        <td>1</td>\n",
       "        <td>0</td>\n",
       "        <td>12250634.00</td>\n",
       "        <td>1422.00</td>\n",
       "        <td>2</td>\n",
       "    </tr>\n",
       "    <tr>\n",
       "        <td>P00145042</td>\n",
       "        <td>1</td>\n",
       "        <td>1</td>\n",
       "        <td>1</td>\n",
       "        <td>20411342.00</td>\n",
       "        <td>1406.00</td>\n",
       "        <td>3</td>\n",
       "    </tr>\n",
       "    <tr>\n",
       "        <td>P00059442</td>\n",
       "        <td>1</td>\n",
       "        <td>1</td>\n",
       "        <td>1</td>\n",
       "        <td>24338343.00</td>\n",
       "        <td>1406.00</td>\n",
       "        <td>3</td>\n",
       "    </tr>\n",
       "</table>"
      ],
      "text/plain": [
       "[('P00265242', Decimal('1'), Decimal('1'), Decimal('0'), Decimal('14165515.00'), Decimal('1880.00'), Decimal('2')),\n",
       " ('P00025442', Decimal('1'), Decimal('1'), Decimal('1'), Decimal('27995166.00'), Decimal('1615.00'), Decimal('3')),\n",
       " ('P00110742', Decimal('1'), Decimal('1'), Decimal('1'), Decimal('26722309.00'), Decimal('1612.00'), Decimal('3')),\n",
       " ('P00112142', Decimal('1'), Decimal('1'), Decimal('1'), Decimal('24216006.00'), Decimal('1562.00'), Decimal('3')),\n",
       " ('P00057642', Decimal('1'), Decimal('1'), Decimal('1'), Decimal('23102780.00'), Decimal('1470.00'), Decimal('3')),\n",
       " ('P00184942', Decimal('1'), Decimal('1'), Decimal('1'), Decimal('24334887.00'), Decimal('1440.00'), Decimal('3')),\n",
       " ('P00046742', Decimal('1'), Decimal('1'), Decimal('1'), Decimal('21152882.00'), Decimal('1438.00'), Decimal('3')),\n",
       " ('P00058042', Decimal('1'), Decimal('1'), Decimal('0'), Decimal('12250634.00'), Decimal('1422.00'), Decimal('2')),\n",
       " ('P00145042', Decimal('1'), Decimal('1'), Decimal('1'), Decimal('20411342.00'), Decimal('1406.00'), Decimal('3')),\n",
       " ('P00059442', Decimal('1'), Decimal('1'), Decimal('1'), Decimal('24338343.00'), Decimal('1406.00'), Decimal('3'))]"
      ]
     },
     "execution_count": 79,
     "metadata": {},
     "output_type": "execute_result"
    }
   ],
   "source": [
    "%%sql\n",
    "select product_id,cat1,cat2,cat3,product_sale_amt,no_of_order,cat1+cat2+cat3 as num_of_cat\n",
    "from products order by no_of_order desc limit 10"
   ]
  },
  {
   "cell_type": "code",
   "execution_count": 80,
   "metadata": {},
   "outputs": [
    {
     "name": "stdout",
     "output_type": "stream",
     "text": [
      " * postgresql://student@/final_10\n",
      "10 rows affected.\n"
     ]
    },
    {
     "data": {
      "text/html": [
       "<table>\n",
       "    <tr>\n",
       "        <th>product_id</th>\n",
       "        <th>cat1</th>\n",
       "        <th>cat2</th>\n",
       "        <th>cat3</th>\n",
       "        <th>product_sale_amt</th>\n",
       "        <th>no_of_order</th>\n",
       "        <th>num_of_cat</th>\n",
       "    </tr>\n",
       "    <tr>\n",
       "        <td>P00156642</td>\n",
       "        <td>1</td>\n",
       "        <td>0</td>\n",
       "        <td>0</td>\n",
       "        <td>8205.00</td>\n",
       "        <td>1.00</td>\n",
       "        <td>1</td>\n",
       "    </tr>\n",
       "    <tr>\n",
       "        <td>P00075042</td>\n",
       "        <td>1</td>\n",
       "        <td>0</td>\n",
       "        <td>0</td>\n",
       "        <td>18456.00</td>\n",
       "        <td>1.00</td>\n",
       "        <td>1</td>\n",
       "    </tr>\n",
       "    <tr>\n",
       "        <td>P00238842</td>\n",
       "        <td>1</td>\n",
       "        <td>0</td>\n",
       "        <td>0</td>\n",
       "        <td>5142.00</td>\n",
       "        <td>1.00</td>\n",
       "        <td>1</td>\n",
       "    </tr>\n",
       "    <tr>\n",
       "        <td>P00340742</td>\n",
       "        <td>1</td>\n",
       "        <td>0</td>\n",
       "        <td>0</td>\n",
       "        <td>7989.00</td>\n",
       "        <td>1.00</td>\n",
       "        <td>1</td>\n",
       "    </tr>\n",
       "    <tr>\n",
       "        <td>P00224642</td>\n",
       "        <td>1</td>\n",
       "        <td>1</td>\n",
       "        <td>0</td>\n",
       "        <td>7820.00</td>\n",
       "        <td>1.00</td>\n",
       "        <td>2</td>\n",
       "    </tr>\n",
       "    <tr>\n",
       "        <td>P00133042</td>\n",
       "        <td>1</td>\n",
       "        <td>1</td>\n",
       "        <td>0</td>\n",
       "        <td>7053.00</td>\n",
       "        <td>1.00</td>\n",
       "        <td>2</td>\n",
       "    </tr>\n",
       "    <tr>\n",
       "        <td>P00012342</td>\n",
       "        <td>1</td>\n",
       "        <td>0</td>\n",
       "        <td>0</td>\n",
       "        <td>2118.00</td>\n",
       "        <td>1.00</td>\n",
       "        <td>1</td>\n",
       "    </tr>\n",
       "    <tr>\n",
       "        <td>P00062442</td>\n",
       "        <td>1</td>\n",
       "        <td>0</td>\n",
       "        <td>0</td>\n",
       "        <td>5436.00</td>\n",
       "        <td>1.00</td>\n",
       "        <td>1</td>\n",
       "    </tr>\n",
       "    <tr>\n",
       "        <td>P00104342</td>\n",
       "        <td>1</td>\n",
       "        <td>1</td>\n",
       "        <td>0</td>\n",
       "        <td>6493.00</td>\n",
       "        <td>1.00</td>\n",
       "        <td>2</td>\n",
       "    </tr>\n",
       "    <tr>\n",
       "        <td>P00335642</td>\n",
       "        <td>1</td>\n",
       "        <td>0</td>\n",
       "        <td>0</td>\n",
       "        <td>6883.00</td>\n",
       "        <td>1.00</td>\n",
       "        <td>1</td>\n",
       "    </tr>\n",
       "</table>"
      ],
      "text/plain": [
       "[('P00156642', Decimal('1'), Decimal('0'), Decimal('0'), Decimal('8205.00'), Decimal('1.00'), Decimal('1')),\n",
       " ('P00075042', Decimal('1'), Decimal('0'), Decimal('0'), Decimal('18456.00'), Decimal('1.00'), Decimal('1')),\n",
       " ('P00238842', Decimal('1'), Decimal('0'), Decimal('0'), Decimal('5142.00'), Decimal('1.00'), Decimal('1')),\n",
       " ('P00340742', Decimal('1'), Decimal('0'), Decimal('0'), Decimal('7989.00'), Decimal('1.00'), Decimal('1')),\n",
       " ('P00224642', Decimal('1'), Decimal('1'), Decimal('0'), Decimal('7820.00'), Decimal('1.00'), Decimal('2')),\n",
       " ('P00133042', Decimal('1'), Decimal('1'), Decimal('0'), Decimal('7053.00'), Decimal('1.00'), Decimal('2')),\n",
       " ('P00012342', Decimal('1'), Decimal('0'), Decimal('0'), Decimal('2118.00'), Decimal('1.00'), Decimal('1')),\n",
       " ('P00062442', Decimal('1'), Decimal('0'), Decimal('0'), Decimal('5436.00'), Decimal('1.00'), Decimal('1')),\n",
       " ('P00104342', Decimal('1'), Decimal('1'), Decimal('0'), Decimal('6493.00'), Decimal('1.00'), Decimal('2')),\n",
       " ('P00335642', Decimal('1'), Decimal('0'), Decimal('0'), Decimal('6883.00'), Decimal('1.00'), Decimal('1'))]"
      ]
     },
     "execution_count": 80,
     "metadata": {},
     "output_type": "execute_result"
    }
   ],
   "source": [
    "%%sql\n",
    "select product_id,cat1,cat2,cat3,product_sale_amt,no_of_order,cat1+cat2+cat3 as num_of_cat\n",
    "from products order by no_of_order limit 10"
   ]
  },
  {
   "cell_type": "markdown",
   "metadata": {},
   "source": [
    "#### most popular: by sales amt"
   ]
  },
  {
   "cell_type": "code",
   "execution_count": 81,
   "metadata": {
    "scrolled": true
   },
   "outputs": [
    {
     "name": "stdout",
     "output_type": "stream",
     "text": [
      " * postgresql://student@/final_10\n",
      "10 rows affected.\n"
     ]
    },
    {
     "data": {
      "text/html": [
       "<table>\n",
       "    <tr>\n",
       "        <th>product_id</th>\n",
       "        <th>cat1</th>\n",
       "        <th>cat2</th>\n",
       "        <th>cat3</th>\n",
       "        <th>product_sale_amt</th>\n",
       "        <th>no_of_order</th>\n",
       "        <th>num_of_cat</th>\n",
       "    </tr>\n",
       "    <tr>\n",
       "        <td>P00025442</td>\n",
       "        <td>1</td>\n",
       "        <td>1</td>\n",
       "        <td>1</td>\n",
       "        <td>27995166.00</td>\n",
       "        <td>1615.00</td>\n",
       "        <td>3</td>\n",
       "    </tr>\n",
       "    <tr>\n",
       "        <td>P00110742</td>\n",
       "        <td>1</td>\n",
       "        <td>1</td>\n",
       "        <td>1</td>\n",
       "        <td>26722309.00</td>\n",
       "        <td>1612.00</td>\n",
       "        <td>3</td>\n",
       "    </tr>\n",
       "    <tr>\n",
       "        <td>P00255842</td>\n",
       "        <td>1</td>\n",
       "        <td>0</td>\n",
       "        <td>0</td>\n",
       "        <td>25168963.00</td>\n",
       "        <td>1383.00</td>\n",
       "        <td>1</td>\n",
       "    </tr>\n",
       "    <tr>\n",
       "        <td>P00059442</td>\n",
       "        <td>1</td>\n",
       "        <td>1</td>\n",
       "        <td>1</td>\n",
       "        <td>24338343.00</td>\n",
       "        <td>1406.00</td>\n",
       "        <td>3</td>\n",
       "    </tr>\n",
       "    <tr>\n",
       "        <td>P00184942</td>\n",
       "        <td>1</td>\n",
       "        <td>1</td>\n",
       "        <td>1</td>\n",
       "        <td>24334887.00</td>\n",
       "        <td>1440.00</td>\n",
       "        <td>3</td>\n",
       "    </tr>\n",
       "    <tr>\n",
       "        <td>P00112142</td>\n",
       "        <td>1</td>\n",
       "        <td>1</td>\n",
       "        <td>1</td>\n",
       "        <td>24216006.00</td>\n",
       "        <td>1562.00</td>\n",
       "        <td>3</td>\n",
       "    </tr>\n",
       "    <tr>\n",
       "        <td>P00110942</td>\n",
       "        <td>1</td>\n",
       "        <td>1</td>\n",
       "        <td>0</td>\n",
       "        <td>23639564.00</td>\n",
       "        <td>1360.00</td>\n",
       "        <td>2</td>\n",
       "    </tr>\n",
       "    <tr>\n",
       "        <td>P00237542</td>\n",
       "        <td>1</td>\n",
       "        <td>1</td>\n",
       "        <td>1</td>\n",
       "        <td>23425576.00</td>\n",
       "        <td>1394.00</td>\n",
       "        <td>3</td>\n",
       "    </tr>\n",
       "    <tr>\n",
       "        <td>P00057642</td>\n",
       "        <td>1</td>\n",
       "        <td>1</td>\n",
       "        <td>1</td>\n",
       "        <td>23102780.00</td>\n",
       "        <td>1470.00</td>\n",
       "        <td>3</td>\n",
       "    </tr>\n",
       "    <tr>\n",
       "        <td>P00010742</td>\n",
       "        <td>1</td>\n",
       "        <td>1</td>\n",
       "        <td>1</td>\n",
       "        <td>22164153.00</td>\n",
       "        <td>1350.00</td>\n",
       "        <td>3</td>\n",
       "    </tr>\n",
       "</table>"
      ],
      "text/plain": [
       "[('P00025442', Decimal('1'), Decimal('1'), Decimal('1'), Decimal('27995166.00'), Decimal('1615.00'), Decimal('3')),\n",
       " ('P00110742', Decimal('1'), Decimal('1'), Decimal('1'), Decimal('26722309.00'), Decimal('1612.00'), Decimal('3')),\n",
       " ('P00255842', Decimal('1'), Decimal('0'), Decimal('0'), Decimal('25168963.00'), Decimal('1383.00'), Decimal('1')),\n",
       " ('P00059442', Decimal('1'), Decimal('1'), Decimal('1'), Decimal('24338343.00'), Decimal('1406.00'), Decimal('3')),\n",
       " ('P00184942', Decimal('1'), Decimal('1'), Decimal('1'), Decimal('24334887.00'), Decimal('1440.00'), Decimal('3')),\n",
       " ('P00112142', Decimal('1'), Decimal('1'), Decimal('1'), Decimal('24216006.00'), Decimal('1562.00'), Decimal('3')),\n",
       " ('P00110942', Decimal('1'), Decimal('1'), Decimal('0'), Decimal('23639564.00'), Decimal('1360.00'), Decimal('2')),\n",
       " ('P00237542', Decimal('1'), Decimal('1'), Decimal('1'), Decimal('23425576.00'), Decimal('1394.00'), Decimal('3')),\n",
       " ('P00057642', Decimal('1'), Decimal('1'), Decimal('1'), Decimal('23102780.00'), Decimal('1470.00'), Decimal('3')),\n",
       " ('P00010742', Decimal('1'), Decimal('1'), Decimal('1'), Decimal('22164153.00'), Decimal('1350.00'), Decimal('3'))]"
      ]
     },
     "execution_count": 81,
     "metadata": {},
     "output_type": "execute_result"
    }
   ],
   "source": [
    "%%sql\n",
    "select product_id,cat1,cat2,cat3,product_sale_amt,no_of_order,cat1+cat2+cat3 as num_of_cat\n",
    "from products order by product_sale_amt desc limit 10"
   ]
  },
  {
   "cell_type": "code",
   "execution_count": 82,
   "metadata": {},
   "outputs": [
    {
     "name": "stdout",
     "output_type": "stream",
     "text": [
      " * postgresql://student@/final_10\n",
      "10 rows affected.\n"
     ]
    },
    {
     "data": {
      "text/html": [
       "<table>\n",
       "    <tr>\n",
       "        <th>product_id</th>\n",
       "        <th>cat1</th>\n",
       "        <th>cat2</th>\n",
       "        <th>cat3</th>\n",
       "        <th>product_sale_amt</th>\n",
       "        <th>no_of_order</th>\n",
       "        <th>num_of_cat</th>\n",
       "    </tr>\n",
       "    <tr>\n",
       "        <td>P00091742</td>\n",
       "        <td>1</td>\n",
       "        <td>0</td>\n",
       "        <td>0</td>\n",
       "        <td>405.00</td>\n",
       "        <td>1.00</td>\n",
       "        <td>1</td>\n",
       "    </tr>\n",
       "    <tr>\n",
       "        <td>P00309042</td>\n",
       "        <td>1</td>\n",
       "        <td>0</td>\n",
       "        <td>0</td>\n",
       "        <td>726.00</td>\n",
       "        <td>1.00</td>\n",
       "        <td>1</td>\n",
       "    </tr>\n",
       "    <tr>\n",
       "        <td>P00353042</td>\n",
       "        <td>1</td>\n",
       "        <td>0</td>\n",
       "        <td>0</td>\n",
       "        <td>1545.00</td>\n",
       "        <td>1.00</td>\n",
       "        <td>1</td>\n",
       "    </tr>\n",
       "    <tr>\n",
       "        <td>P00325342</td>\n",
       "        <td>1</td>\n",
       "        <td>0</td>\n",
       "        <td>0</td>\n",
       "        <td>1656.00</td>\n",
       "        <td>1.00</td>\n",
       "        <td>1</td>\n",
       "    </tr>\n",
       "    <tr>\n",
       "        <td>P00012942</td>\n",
       "        <td>1</td>\n",
       "        <td>1</td>\n",
       "        <td>0</td>\n",
       "        <td>1717.00</td>\n",
       "        <td>1.00</td>\n",
       "        <td>2</td>\n",
       "    </tr>\n",
       "    <tr>\n",
       "        <td>P00287042</td>\n",
       "        <td>1</td>\n",
       "        <td>0</td>\n",
       "        <td>0</td>\n",
       "        <td>1739.00</td>\n",
       "        <td>1.00</td>\n",
       "        <td>1</td>\n",
       "    </tr>\n",
       "    <tr>\n",
       "        <td>P00104042</td>\n",
       "        <td>1</td>\n",
       "        <td>1</td>\n",
       "        <td>0</td>\n",
       "        <td>1745.00</td>\n",
       "        <td>1.00</td>\n",
       "        <td>2</td>\n",
       "    </tr>\n",
       "    <tr>\n",
       "        <td>P00357542</td>\n",
       "        <td>1</td>\n",
       "        <td>1</td>\n",
       "        <td>0</td>\n",
       "        <td>1791.00</td>\n",
       "        <td>1.00</td>\n",
       "        <td>2</td>\n",
       "    </tr>\n",
       "    <tr>\n",
       "        <td>P00063442</td>\n",
       "        <td>1</td>\n",
       "        <td>0</td>\n",
       "        <td>0</td>\n",
       "        <td>1866.00</td>\n",
       "        <td>1.00</td>\n",
       "        <td>1</td>\n",
       "    </tr>\n",
       "    <tr>\n",
       "        <td>P00293442</td>\n",
       "        <td>1</td>\n",
       "        <td>0</td>\n",
       "        <td>0</td>\n",
       "        <td>1914.00</td>\n",
       "        <td>4.00</td>\n",
       "        <td>1</td>\n",
       "    </tr>\n",
       "</table>"
      ],
      "text/plain": [
       "[('P00091742', Decimal('1'), Decimal('0'), Decimal('0'), Decimal('405.00'), Decimal('1.00'), Decimal('1')),\n",
       " ('P00309042', Decimal('1'), Decimal('0'), Decimal('0'), Decimal('726.00'), Decimal('1.00'), Decimal('1')),\n",
       " ('P00353042', Decimal('1'), Decimal('0'), Decimal('0'), Decimal('1545.00'), Decimal('1.00'), Decimal('1')),\n",
       " ('P00325342', Decimal('1'), Decimal('0'), Decimal('0'), Decimal('1656.00'), Decimal('1.00'), Decimal('1')),\n",
       " ('P00012942', Decimal('1'), Decimal('1'), Decimal('0'), Decimal('1717.00'), Decimal('1.00'), Decimal('2')),\n",
       " ('P00287042', Decimal('1'), Decimal('0'), Decimal('0'), Decimal('1739.00'), Decimal('1.00'), Decimal('1')),\n",
       " ('P00104042', Decimal('1'), Decimal('1'), Decimal('0'), Decimal('1745.00'), Decimal('1.00'), Decimal('2')),\n",
       " ('P00357542', Decimal('1'), Decimal('1'), Decimal('0'), Decimal('1791.00'), Decimal('1.00'), Decimal('2')),\n",
       " ('P00063442', Decimal('1'), Decimal('0'), Decimal('0'), Decimal('1866.00'), Decimal('1.00'), Decimal('1')),\n",
       " ('P00293442', Decimal('1'), Decimal('0'), Decimal('0'), Decimal('1914.00'), Decimal('4.00'), Decimal('1'))]"
      ]
     },
     "execution_count": 82,
     "metadata": {},
     "output_type": "execute_result"
    }
   ],
   "source": [
    "%%sql\n",
    "select product_id,cat1,cat2,cat3,product_sale_amt,no_of_order,cat1+cat2+cat3 as num_of_cat\n",
    "from products order by product_sale_amt limit 10"
   ]
  },
  {
   "cell_type": "markdown",
   "metadata": {},
   "source": [
    "Conclusion:  Product that belongs to mutipule categories tends to be more popular."
   ]
  },
  {
   "cell_type": "code",
   "execution_count": 91,
   "metadata": {},
   "outputs": [
    {
     "name": "stdout",
     "output_type": "stream",
     "text": [
      " * postgresql://student@/final_10\n",
      "Done.\n",
      "3631 rows affected.\n"
     ]
    },
    {
     "data": {
      "text/plain": [
       "[]"
      ]
     },
     "execution_count": 91,
     "metadata": {},
     "output_type": "execute_result"
    }
   ],
   "source": [
    "%%sql\n",
    "drop table if exists q2_plot_amt;\n",
    "create table q2_plot_amt as\n",
    "select product_id,cat1,cat2,cat3,product_sale_amt,no_of_order,cat1+cat2+cat3 as num_of_cat\n",
    "from products order by product_sale_amt desc"
   ]
  },
  {
   "cell_type": "code",
   "execution_count": 118,
   "metadata": {},
   "outputs": [
    {
     "name": "stdout",
     "output_type": "stream",
     "text": [
      " * postgresql://student@/final_10\n",
      "Done.\n",
      "3631 rows affected.\n"
     ]
    },
    {
     "data": {
      "text/plain": [
       "[]"
      ]
     },
     "execution_count": 118,
     "metadata": {},
     "output_type": "execute_result"
    }
   ],
   "source": [
    "%%sql\n",
    "drop table if exists q2_plot_order;\n",
    "create table q2_plot_order as\n",
    "select product_id,cat1,cat2,cat3,product_sale_amt,no_of_order,cat1+cat2+cat3 as num_of_cat\n",
    "from products order by no_of_order desc"
   ]
  },
  {
   "cell_type": "code",
   "execution_count": 119,
   "metadata": {},
   "outputs": [],
   "source": [
    "q2_plot_amt = pd.read_sql_table('q2_plot_amt',con=engine)\n",
    "q2_plot_order = pd.read_sql_table('q2_plot_order',con=engine)"
   ]
  },
  {
   "cell_type": "code",
   "execution_count": 120,
   "metadata": {},
   "outputs": [],
   "source": [
    "top100_amt = q2_plot_amt.iloc[:100,:][['product_sale_amt','num_of_cat']].groupby(by='num_of_cat').count()\n",
    "top100_order = q2_plot_order.iloc[:100,:][['no_of_order','num_of_cat']].groupby(by='num_of_cat').count()"
   ]
  },
  {
   "cell_type": "code",
   "execution_count": 121,
   "metadata": {},
   "outputs": [
    {
     "data": {
      "image/png": "[encoded data removed]",
      "text/plain": [
       "<Figure size 864x504 with 1 Axes>"
      ]
     },
     "metadata": {},
     "output_type": "display_data"
    }
   ],
   "source": [
    "plt.figure(figsize = (12,7))\n",
    "plt.bar(x = top100_amt.index,height = top100_amt.product_sale_amt)\n",
    "plt.xlabel('no of categories')\n",
    "plt.ylabel('sales amount')\n",
    "plt.show()"
   ]
  },
  {
   "cell_type": "code",
   "execution_count": 122,
   "metadata": {},
   "outputs": [
    {
     "data": {
      "image/png": "[encoded data removed]",
      "text/plain": [
       "<Figure size 864x504 with 1 Axes>"
      ]
     },
     "metadata": {},
     "output_type": "display_data"
    }
   ],
   "source": [
    "plt.figure(figsize = (12,7))\n",
    "plt.bar(x = top100_order.index,height = top100_order.no_of_order)\n",
    "plt.xlabel('no of categories')\n",
    "plt.ylabel('no of order')\n",
    "plt.show()"
   ]
  },
  {
   "cell_type": "markdown",
   "metadata": {},
   "source": [
    "Conclusion:  Product that belongs to mutipule categories tends to be more popular."
   ]
  },
  {
   "cell_type": "markdown",
   "metadata": {},
   "source": [
    "### Q3: Find the profile of customers who are interested in the most popular product P00069042"
   ]
  },
  {
   "cell_type": "code",
   "execution_count": 9,
   "metadata": {},
   "outputs": [
    {
     "name": "stdout",
     "output_type": "stream",
     "text": [
      " * postgresql://student@/final_10\n",
      "10 rows affected.\n"
     ]
    },
    {
     "data": {
      "text/html": [
       "<table>\n",
       "    <tr>\n",
       "        <th>user_id</th>\n",
       "        <th>product_id</th>\n",
       "        <th>transaction_amt</th>\n",
       "    </tr>\n",
       "    <tr>\n",
       "        <td>1000001</td>\n",
       "        <td>P00069042</td>\n",
       "        <td>8370.00</td>\n",
       "    </tr>\n",
       "    <tr>\n",
       "        <td>1000001</td>\n",
       "        <td>P00248942</td>\n",
       "        <td>15200.00</td>\n",
       "    </tr>\n",
       "    <tr>\n",
       "        <td>1000001</td>\n",
       "        <td>P00087842</td>\n",
       "        <td>1422.00</td>\n",
       "    </tr>\n",
       "    <tr>\n",
       "        <td>1000001</td>\n",
       "        <td>P00085442</td>\n",
       "        <td>1057.00</td>\n",
       "    </tr>\n",
       "    <tr>\n",
       "        <td>1000002</td>\n",
       "        <td>P00285442</td>\n",
       "        <td>7969.00</td>\n",
       "    </tr>\n",
       "    <tr>\n",
       "        <td>1000003</td>\n",
       "        <td>P00193542</td>\n",
       "        <td>15227.00</td>\n",
       "    </tr>\n",
       "    <tr>\n",
       "        <td>1000004</td>\n",
       "        <td>P00184942</td>\n",
       "        <td>19215.00</td>\n",
       "    </tr>\n",
       "    <tr>\n",
       "        <td>1000004</td>\n",
       "        <td>P00346142</td>\n",
       "        <td>15854.00</td>\n",
       "    </tr>\n",
       "    <tr>\n",
       "        <td>1000004</td>\n",
       "        <td>P0097242</td>\n",
       "        <td>15686.00</td>\n",
       "    </tr>\n",
       "    <tr>\n",
       "        <td>1000005</td>\n",
       "        <td>P00274942</td>\n",
       "        <td>7871.00</td>\n",
       "    </tr>\n",
       "</table>"
      ],
      "text/plain": [
       "[('1000001', 'P00069042', Decimal('8370.00')),\n",
       " ('1000001', 'P00248942', Decimal('15200.00')),\n",
       " ('1000001', 'P00087842', Decimal('1422.00')),\n",
       " ('1000001', 'P00085442', Decimal('1057.00')),\n",
       " ('1000002', 'P00285442', Decimal('7969.00')),\n",
       " ('1000003', 'P00193542', Decimal('15227.00')),\n",
       " ('1000004', 'P00184942', Decimal('19215.00')),\n",
       " ('1000004', 'P00346142', Decimal('15854.00')),\n",
       " ('1000004', 'P0097242', Decimal('15686.00')),\n",
       " ('1000005', 'P00274942', Decimal('7871.00'))]"
      ]
     },
     "execution_count": 9,
     "metadata": {},
     "output_type": "execute_result"
    }
   ],
   "source": [
    "%%sql\n",
    "select * from facts limit 10"
   ]
  },
  {
   "cell_type": "markdown",
   "metadata": {},
   "source": [
    "Create a table that only contains customers who purchased P00069042"
   ]
  },
  {
   "cell_type": "code",
   "execution_count": 19,
   "metadata": {},
   "outputs": [
    {
     "name": "stdout",
     "output_type": "stream",
     "text": [
      " * postgresql://student@/final_10\n",
      "Done.\n",
      "1880 rows affected.\n"
     ]
    },
    {
     "data": {
      "text/plain": [
       "[]"
      ]
     },
     "execution_count": 19,
     "metadata": {},
     "output_type": "execute_result"
    }
   ],
   "source": [
    "%%sql\n",
    "drop table if exists q3;\n",
    "create table q3 as\n",
    "select A.user_id,users.gender,users.age,users.occupation,users.city_cat,users.marital from\n",
    "(select facts.user_id,products.product_id,products.no_of_order,facts.transaction_amt from products \n",
    "left join facts\n",
    "on products.product_id = facts.product_id\n",
    "where facts.product_id ='P00265242'\n",
    "order by facts.transaction_amt desc ) as A\n",
    "left join users\n",
    "on A.user_id = users.user_id "
   ]
  },
  {
   "cell_type": "code",
   "execution_count": 21,
   "metadata": {},
   "outputs": [
    {
     "data": {
      "text/html": [
       "<div>\n",
       "<style scoped>\n",
       "    .dataframe tbody tr th:only-of-type {\n",
       "        vertical-align: middle;\n",
       "    }\n",
       "\n",
       "    .dataframe tbody tr th {\n",
       "        vertical-align: top;\n",
       "    }\n",
       "\n",
       "    .dataframe thead th {\n",
       "        text-align: right;\n",
       "    }\n",
       "</style>\n",
       "<table border=\"1\" class=\"dataframe\">\n",
       "  <thead>\n",
       "    <tr style=\"text-align: right;\">\n",
       "      <th></th>\n",
       "      <th>user_id</th>\n",
       "      <th>gender</th>\n",
       "      <th>age</th>\n",
       "      <th>occupation</th>\n",
       "      <th>city_cat</th>\n",
       "      <th>marital</th>\n",
       "    </tr>\n",
       "  </thead>\n",
       "  <tbody>\n",
       "    <tr>\n",
       "      <th>0</th>\n",
       "      <td>1000002</td>\n",
       "      <td>M</td>\n",
       "      <td>55+</td>\n",
       "      <td>16</td>\n",
       "      <td>C</td>\n",
       "      <td>0</td>\n",
       "    </tr>\n",
       "    <tr>\n",
       "      <th>1</th>\n",
       "      <td>1000705</td>\n",
       "      <td>M</td>\n",
       "      <td>26-35</td>\n",
       "      <td>4</td>\n",
       "      <td>C</td>\n",
       "      <td>1</td>\n",
       "    </tr>\n",
       "    <tr>\n",
       "      <th>2</th>\n",
       "      <td>1000760</td>\n",
       "      <td>M</td>\n",
       "      <td>55+</td>\n",
       "      <td>15</td>\n",
       "      <td>A</td>\n",
       "      <td>1</td>\n",
       "    </tr>\n",
       "    <tr>\n",
       "      <th>3</th>\n",
       "      <td>1001593</td>\n",
       "      <td>M</td>\n",
       "      <td>26-35</td>\n",
       "      <td>16</td>\n",
       "      <td>C</td>\n",
       "      <td>1</td>\n",
       "    </tr>\n",
       "    <tr>\n",
       "      <th>4</th>\n",
       "      <td>1001640</td>\n",
       "      <td>M</td>\n",
       "      <td>36-45</td>\n",
       "      <td>17</td>\n",
       "      <td>C</td>\n",
       "      <td>0</td>\n",
       "    </tr>\n",
       "  </tbody>\n",
       "</table>\n",
       "</div>"
      ],
      "text/plain": [
       "   user_id gender    age occupation city_cat marital\n",
       "0  1000002      M    55+         16        C       0\n",
       "1  1000705      M  26-35          4        C       1\n",
       "2  1000760      M    55+         15        A       1\n",
       "3  1001593      M  26-35         16        C       1\n",
       "4  1001640      M  36-45         17        C       0"
      ]
     },
     "execution_count": 21,
     "metadata": {},
     "output_type": "execute_result"
    }
   ],
   "source": [
    "q3 = pd.read_sql_table('q3',con=engine)\n",
    "q3.head()"
   ]
  },
  {
   "cell_type": "markdown",
   "metadata": {},
   "source": [
    "Visualize data for analysis."
   ]
  },
  {
   "cell_type": "code",
   "execution_count": 32,
   "metadata": {},
   "outputs": [
    {
     "data": {
      "text/plain": [
       "<matplotlib.axes._subplots.AxesSubplot at 0x7fb528b535c0>"
      ]
     },
     "execution_count": 32,
     "metadata": {},
     "output_type": "execute_result"
    },
    {
     "data": {
      "image/png": "[encoded data removed]",
      "text/plain": [
       "<Figure size 936x504 with 1 Axes>"
      ]
     },
     "metadata": {},
     "output_type": "display_data"
    }
   ],
   "source": [
    "q3.groupby('age').count()[['user_id']].plot(kind = 'bar',rot = 0,figsize = (13,7),title = 'Distribution of age')"
   ]
  },
  {
   "cell_type": "code",
   "execution_count": 34,
   "metadata": {},
   "outputs": [
    {
     "data": {
      "text/plain": [
       "<matplotlib.axes._subplots.AxesSubplot at 0x7fb524fb17b8>"
      ]
     },
     "execution_count": 34,
     "metadata": {},
     "output_type": "execute_result"
    },
    {
     "data": {
      "image/png": "[encoded data removed]",
      "text/plain": [
       "<Figure size 936x504 with 1 Axes>"
      ]
     },
     "metadata": {},
     "output_type": "display_data"
    }
   ],
   "source": [
    "q3.groupby('occupation').count()[['user_id']].plot(kind = 'bar',rot = 0,figsize = (13,7),title = 'Distribution of occupation')"
   ]
  },
  {
   "cell_type": "code",
   "execution_count": 35,
   "metadata": {},
   "outputs": [
    {
     "data": {
      "text/plain": [
       "<matplotlib.axes._subplots.AxesSubplot at 0x7fb528b7aa90>"
      ]
     },
     "execution_count": 35,
     "metadata": {},
     "output_type": "execute_result"
    },
    {
     "data": {
      "image/png": "[encoded data removed]",
      "text/plain": [
       "<Figure size 936x504 with 1 Axes>"
      ]
     },
     "metadata": {},
     "output_type": "display_data"
    }
   ],
   "source": [
    "q3.groupby('city_cat').count()[['user_id']].plot(kind = 'bar',rot = 0,figsize = (13,7),title = 'Barplot of city_cat')"
   ]
  },
  {
   "cell_type": "code",
   "execution_count": 67,
   "metadata": {},
   "outputs": [],
   "source": [
    "not_married = q3[q3.marital == '0'].groupby('gender').count()[['user_id']]\n",
    "married=q3[q3.marital == '1'].groupby('gender').count()[['user_id']]"
   ]
  },
  {
   "cell_type": "code",
   "execution_count": 66,
   "metadata": {},
   "outputs": [
    {
     "data": {
      "image/png": "[encoded data removed]",
      "text/plain": [
       "<Figure size 1440x720 with 2 Axes>"
      ]
     },
     "metadata": {},
     "output_type": "display_data"
    }
   ],
   "source": [
    "fig,(ax1,ax2) = plt.subplots(1,2,figsize = (20,10),sharey=True)\n",
    "ax1.bar(x = married.index,height = married.user_id,color='r')\n",
    "ax1.set_title('Married')\n",
    "ax2.bar(x = not_married.index,height = not_married.user_id,color='b')\n",
    "ax2.set_title('Not Married')\n",
    "plt.show()"
   ]
  },
  {
   "cell_type": "markdown",
   "metadata": {},
   "source": [
    "Conclusion: A single man, who is 26-35 year old, lives in type C or type B city, has an occupation code of 4 is the one who is most interested in product P00069042."
   ]
  },
  {
   "cell_type": "code",
   "execution_count": null,
   "metadata": {},
   "outputs": [],
   "source": []
  }
 ],
 "metadata": {
  "kernelspec": {
   "display_name": "Python 3",
   "language": "python",
   "name": "python3"
  },
  "language_info": {
   "codemirror_mode": {
    "name": "ipython",
    "version": 3
   },
   "file_extension": ".py",
   "mimetype": "text/x-python",
   "name": "python",
   "nbconvert_exporter": "python",
   "pygments_lexer": "ipython3",
   "version": "3.7.4"
  }
 },
 "nbformat": 4,
 "nbformat_minor": 2
}
